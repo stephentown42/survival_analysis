{
 "cells": [
  {
   "cell_type": "markdown",
   "metadata": {},
   "source": [
    "https://towardsdatascience.com/schoenfeld-residuals-the-idea-that-turned-regression-modeling-on-its-head-b1f1fd293f87\n",
    "\n",
    "## 1.1. Specify Constants\n",
    "\n",
    "<link href=\"https://fonts.googleapis.com/css2?family=Roboto+Mono&display=swap\" rel=\"stylesheet\">\n",
    "<span style=\"font-family: 'Lobster', cursive; font-size: 20px;\">\n",
    "In this example, we will simulate some data using parameters to specify the size and column names of the  dataset created. We will also include some parameters to constain the values simulated. Finally, we will explicitly state the mapping between concepts in our analysis (e.g. whether someone is alive or dead) and values used in the notebook.\n",
    "</span>"
   ]
  },
  {
   "cell_type": "code",
   "execution_count": 89,
   "metadata": {},
   "outputs": [],
   "source": [
    "from enum import Enum\n",
    "\n",
    "\n",
    "class SimParams(Enum):\n",
    "\n",
    "    N_PATIENTS = 100\n",
    "    MAX_AGE = 85\n",
    "    MAX_SURVIAL_DAYS = 3650\n",
    "\n",
    "\n",
    "class ColumnNames(str, Enum):\n",
    "\n",
    "    ID = \"id\"\n",
    "    AGE = \"age\"\n",
    "    SURVIVAL_TIME = \"survival time\"\n",
    "    SURVIVAL_STATUS = \"survival status\"\n",
    "    PRIOR_SURGERY = \"prior surgery\"\n",
    "    TRANSPLANT_STATUS = \"transplant status\"\n",
    "\n",
    "    def __str__(self):\n",
    "        return self.value\n",
    "\n",
    "\n",
    "class SurvivalStatus(Enum):\n",
    "\n",
    "    ALIVE = 0\n",
    "    DEAD = 1\n",
    "\n",
    "    def __repr__(self):\n",
    "        return self.value"
   ]
  },
  {
   "cell_type": "markdown",
   "metadata": {},
   "source": [
    "## 1.2. Specify dataframe schema\n",
    "\n",
    "<span style=\"font-family: 'Lobster', cursive; font-size: 20px;\">\n",
    "Specifying the schema allows us to validate incoming data and explicitly set out the assumptions made when developing the code.\n",
    "</span>"
   ]
  },
  {
   "cell_type": "code",
   "execution_count": 61,
   "metadata": {},
   "outputs": [],
   "source": [
    "import pandera as pa\n",
    "from pandera import Column, DataFrameSchema, Check, Index\n",
    "\n",
    "schema = DataFrameSchema(\n",
    "    {\n",
    "        ColumnNames.AGE: Column(int, Check.in_range(1, SimParams.MAX_AGE.value)),\n",
    "        ColumnNames.SURVIVAL_TIME: Column(int, Check.greater_than(0)),\n",
    "        ColumnNames.SURVIVAL_STATUS: Column(\n",
    "            int, Check.isin([x.value for x in SurvivalStatus])\n",
    "        ),\n",
    "        ColumnNames.PRIOR_SURGERY: Column(int, Check.isin([0, 1])),\n",
    "        ColumnNames.TRANSPLANT_STATUS: Column(int, Check.isin([0, 1])),\n",
    "    },\n",
    "    index = Index(name=ColumnNames.ID, dtype=int),\n",
    "    strict=True,\n",
    "    coerce=True,\n",
    ")"
   ]
  },
  {
   "cell_type": "markdown",
   "metadata": {},
   "source": [
    "## 1.3. Simulate some data\n",
    "\n",
    "<span style=\"font-family: 'Lobster', cursive; font-size: 20px;\">\n",
    "To get us started, we will create some basic simulated data that meets the specifications we have outlined. In later examples, we can make things more complicated and introduce statistical dependencies - however for now we'll keep it very simple.\n",
    "</span>"
   ]
  },
  {
   "cell_type": "code",
   "execution_count": 83,
   "metadata": {},
   "outputs": [],
   "source": [
    "import numpy as np\n",
    "import pandas as pd\n",
    "\n",
    "np.random.seed(42)\n",
    "\n",
    "df = pd.DataFrame(\n",
    "    data = {\n",
    "        ColumnNames.AGE: 1 + np.random.randint(\n",
    "            SimParams.MAX_AGE.value, size=SimParams.N_PATIENTS.value\n",
    "        ),\n",
    "        ColumnNames.SURVIVAL_TIME: np.random.randint(\n",
    "            SimParams.MAX_SURVIAL_DAYS.value, size=SimParams.N_PATIENTS.value\n",
    "        ),\n",
    "        ColumnNames.SURVIVAL_STATUS: np.random.randint(\n",
    "            2, size=SimParams.N_PATIENTS.value\n",
    "        ),\n",
    "        ColumnNames.PRIOR_SURGERY: np.random.randint(\n",
    "            2, size=SimParams.N_PATIENTS.value\n",
    "        ),\n",
    "        ColumnNames.TRANSPLANT_STATUS: np.random.randint(\n",
    "            2, size=SimParams.N_PATIENTS.value\n",
    "        ),\n",
    "    },\n",
    "    index = pd.RangeIndex(stop=SimParams.N_PATIENTS.value, name=ColumnNames.ID)        \n",
    ")\n"
   ]
  },
  {
   "cell_type": "markdown",
   "metadata": {},
   "source": [
    "## 1.4. Validate schema on dataframe\n",
    "\n",
    "Finally, we'll take advantage of the hard work above and check that our dataframe matches our expectations. Think of validation as a form of testing that improves the quality of your work and catches things that you might not have considered. Being efficient at this will then give you and your colleagues more time to work on other things."
   ]
  },
  {
   "cell_type": "code",
   "execution_count": 84,
   "metadata": {},
   "outputs": [],
   "source": [
    "df = schema.validate(df)\n",
    "\n",
    "df = df.sort_values(by=ColumnNames.SURVIVAL_TIME).reset_index()"
   ]
  },
  {
   "cell_type": "markdown",
   "metadata": {},
   "source": [
    "## 1.5. Summarize Data\n",
    "\n",
    "<span style=\"font-family: 'Lobster', cursive; font-size: 20px;\">\n",
    "Before modelling the data, it's good to check what the properties of the data are - here, the mean will tell us the proportion of patients with prior surgery, transplant and the survival outcome event:\n",
    "</span>"
   ]
  },
  {
   "cell_type": "code",
   "execution_count": 85,
   "metadata": {},
   "outputs": [
    {
     "data": {
      "text/plain": [
       "id                     49.50\n",
       "age                    42.58\n",
       "survival time        1986.00\n",
       "survival status         0.52\n",
       "prior surgery           0.57\n",
       "transplant status       0.52\n",
       "dtype: float64"
      ]
     },
     "execution_count": 85,
     "metadata": {},
     "output_type": "execute_result"
    }
   ],
   "source": [
    "df.mean()"
   ]
  },
  {
   "cell_type": "markdown",
   "metadata": {},
   "source": [
    "# 2. Fit Cox Proportional Hazards Model \n",
    "\n",
    "<span style=\"font-family: 'Lobster', cursive; font-size: 20px;\">\n",
    "Use the lifelines package to fit a Cox Proportional Hazards model:\n",
    "</span>"
   ]
  },
  {
   "cell_type": "code",
   "execution_count": 93,
   "metadata": {},
   "outputs": [
    {
     "data": {
      "text/html": [
       "<div>\n",
       "<style scoped>\n",
       "    .dataframe tbody tr th:only-of-type {\n",
       "        vertical-align: middle;\n",
       "    }\n",
       "\n",
       "    .dataframe tbody tr th {\n",
       "        vertical-align: top;\n",
       "    }\n",
       "\n",
       "    .dataframe thead th {\n",
       "        text-align: right;\n",
       "    }\n",
       "</style>\n",
       "<table border=\"1\" class=\"dataframe\">\n",
       "  <tbody>\n",
       "    <tr>\n",
       "      <th>model</th>\n",
       "      <td>lifelines.CoxPHFitter</td>\n",
       "    </tr>\n",
       "    <tr>\n",
       "      <th>duration col</th>\n",
       "      <td>'survival time'</td>\n",
       "    </tr>\n",
       "    <tr>\n",
       "      <th>event col</th>\n",
       "      <td>'survival status'</td>\n",
       "    </tr>\n",
       "    <tr>\n",
       "      <th>baseline estimation</th>\n",
       "      <td>breslow</td>\n",
       "    </tr>\n",
       "    <tr>\n",
       "      <th>number of observations</th>\n",
       "      <td>100</td>\n",
       "    </tr>\n",
       "    <tr>\n",
       "      <th>number of events observed</th>\n",
       "      <td>52</td>\n",
       "    </tr>\n",
       "    <tr>\n",
       "      <th>partial log-likelihood</th>\n",
       "      <td>-190.79</td>\n",
       "    </tr>\n",
       "    <tr>\n",
       "      <th>time fit was run</th>\n",
       "      <td>2024-07-20 19:17:37 UTC</td>\n",
       "    </tr>\n",
       "  </tbody>\n",
       "</table>\n",
       "</div><table border=\"1\" class=\"dataframe\">\n",
       "  <thead>\n",
       "    <tr style=\"text-align: right;\">\n",
       "      <th style=\"min-width: 12px;\"></th>\n",
       "      <th style=\"min-width: 12px;\">coef</th>\n",
       "      <th style=\"min-width: 12px;\">exp(coef)</th>\n",
       "      <th style=\"min-width: 12px;\">se(coef)</th>\n",
       "      <th style=\"min-width: 12px;\">coef lower 95%</th>\n",
       "      <th style=\"min-width: 12px;\">coef upper 95%</th>\n",
       "      <th style=\"min-width: 12px;\">exp(coef) lower 95%</th>\n",
       "      <th style=\"min-width: 12px;\">exp(coef) upper 95%</th>\n",
       "      <th style=\"min-width: 12px;\">cmp to</th>\n",
       "      <th style=\"min-width: 12px;\">z</th>\n",
       "      <th style=\"min-width: 12px;\">p</th>\n",
       "      <th style=\"min-width: 12px;\">-log2(p)</th>\n",
       "    </tr>\n",
       "  </thead>\n",
       "  <tbody>\n",
       "    <tr>\n",
       "      <th>age</th>\n",
       "      <td>-0.00</td>\n",
       "      <td>1.00</td>\n",
       "      <td>0.01</td>\n",
       "      <td>-0.01</td>\n",
       "      <td>0.01</td>\n",
       "      <td>0.99</td>\n",
       "      <td>1.01</td>\n",
       "      <td>0.00</td>\n",
       "      <td>-0.09</td>\n",
       "      <td>0.93</td>\n",
       "      <td>0.11</td>\n",
       "    </tr>\n",
       "    <tr>\n",
       "      <th>prior surgery</th>\n",
       "      <td>0.18</td>\n",
       "      <td>1.19</td>\n",
       "      <td>0.30</td>\n",
       "      <td>-0.40</td>\n",
       "      <td>0.76</td>\n",
       "      <td>0.67</td>\n",
       "      <td>2.13</td>\n",
       "      <td>0.00</td>\n",
       "      <td>0.59</td>\n",
       "      <td>0.55</td>\n",
       "      <td>0.86</td>\n",
       "    </tr>\n",
       "    <tr>\n",
       "      <th>transplant status</th>\n",
       "      <td>0.04</td>\n",
       "      <td>1.04</td>\n",
       "      <td>0.29</td>\n",
       "      <td>-0.53</td>\n",
       "      <td>0.60</td>\n",
       "      <td>0.59</td>\n",
       "      <td>1.81</td>\n",
       "      <td>0.00</td>\n",
       "      <td>0.12</td>\n",
       "      <td>0.90</td>\n",
       "      <td>0.15</td>\n",
       "    </tr>\n",
       "  </tbody>\n",
       "</table><br><div>\n",
       "<style scoped>\n",
       "    .dataframe tbody tr th:only-of-type {\n",
       "        vertical-align: middle;\n",
       "    }\n",
       "\n",
       "    .dataframe tbody tr th {\n",
       "        vertical-align: top;\n",
       "    }\n",
       "\n",
       "    .dataframe thead th {\n",
       "        text-align: right;\n",
       "    }\n",
       "</style>\n",
       "<table border=\"1\" class=\"dataframe\">\n",
       "  <tbody>\n",
       "    <tr>\n",
       "      <th>Concordance</th>\n",
       "      <td>0.54</td>\n",
       "    </tr>\n",
       "    <tr>\n",
       "      <th>Partial AIC</th>\n",
       "      <td>387.58</td>\n",
       "    </tr>\n",
       "    <tr>\n",
       "      <th>log-likelihood ratio test</th>\n",
       "      <td>0.42 on 3 df</td>\n",
       "    </tr>\n",
       "    <tr>\n",
       "      <th>-log2(p) of ll-ratio test</th>\n",
       "      <td>0.10</td>\n",
       "    </tr>\n",
       "  </tbody>\n",
       "</table>\n",
       "</div>"
      ],
      "text/latex": [
       "\\begin{tabular}{lrrrrrrrrrrr}\n",
       " & coef & exp(coef) & se(coef) & coef lower 95% & coef upper 95% & exp(coef) lower 95% & exp(coef) upper 95% & cmp to & z & p & -log2(p) \\\\\n",
       "covariate &  &  &  &  &  &  &  &  &  &  &  \\\\\n",
       "age & -0.00 & 1.00 & 0.01 & -0.01 & 0.01 & 0.99 & 1.01 & 0.00 & -0.09 & 0.93 & 0.11 \\\\\n",
       "prior surgery & 0.18 & 1.19 & 0.30 & -0.40 & 0.76 & 0.67 & 2.13 & 0.00 & 0.59 & 0.55 & 0.86 \\\\\n",
       "transplant status & 0.04 & 1.04 & 0.29 & -0.53 & 0.60 & 0.59 & 1.81 & 0.00 & 0.12 & 0.90 & 0.15 \\\\\n",
       "\\end{tabular}\n"
      ],
      "text/plain": [
       "<lifelines.CoxPHFitter: fitted with 100 total observations, 48 right-censored observations>\n",
       "             duration col = 'survival time'\n",
       "                event col = 'survival status'\n",
       "      baseline estimation = breslow\n",
       "   number of observations = 100\n",
       "number of events observed = 52\n",
       "   partial log-likelihood = -190.79\n",
       "         time fit was run = 2024-07-20 19:17:37 UTC\n",
       "\n",
       "---\n",
       "                   coef exp(coef)  se(coef)  coef lower 95%  coef upper 95% exp(coef) lower 95% exp(coef) upper 95%\n",
       "covariate                                                                                                          \n",
       "age               -0.00      1.00      0.01           -0.01            0.01                0.99                1.01\n",
       "prior surgery      0.18      1.19      0.30           -0.40            0.76                0.67                2.13\n",
       "transplant status  0.04      1.04      0.29           -0.53            0.60                0.59                1.81\n",
       "\n",
       "                   cmp to     z    p  -log2(p)\n",
       "covariate                                     \n",
       "age                  0.00 -0.09 0.93      0.11\n",
       "prior surgery        0.00  0.59 0.55      0.86\n",
       "transplant status    0.00  0.12 0.90      0.15\n",
       "---\n",
       "Concordance = 0.54\n",
       "Partial AIC = 387.58\n",
       "log-likelihood ratio test = 0.42 on 3 df\n",
       "-log2(p) of ll-ratio test = 0.10"
      ]
     },
     "metadata": {},
     "output_type": "display_data"
    }
   ],
   "source": [
    "from lifelines import CoxPHFitter\n",
    "\n",
    "cph_model = CoxPHFitter()\n",
    "input_df = df.drop(columns=ColumnNames.ID)\n",
    "\n",
    "cph_model.fit(\n",
    "    df=input_df, \n",
    "    duration_col=ColumnNames.SURVIVAL_TIME,\n",
    "    event_col=ColumnNames.SURVIVAL_STATUS,\n",
    ")\n",
    "\n",
    "cph_model.print_summary()"
   ]
  },
  {
   "cell_type": "markdown",
   "metadata": {},
   "source": [
    "## 2.2. Schoenfeld Residuals\n",
    "\n",
    "Residuals normally capture the difference between the response observed for a set of input parameters and the response predicted by the model for those same input predictors. However for schoenfeld residuals, we want to get the expected input parameters for a given response - for example, what is the expected age of patients at risk of dying on day 10, or the expected transplant status of patients at risk of dying on day 100. The Schoenfeld residuals are then the difference between the actual values in the dataset and this expected value.\n",
    "\n",
    "In contrast to other kinds of residuals, the number of Schoenfeld residuals depends on the number of patients at risk. Therefore, for most survival curves, the number of Schoenfeld residuals declines with time.\n",
    "\n",
    "\n"
   ]
  },
  {
   "cell_type": "code",
   "execution_count": 94,
   "metadata": {},
   "outputs": [],
   "source": [
    "scaled_schoenfeld_residuals = cph_model.compute_residuals(training_dataframe=input_df, kind='scaled_schoenfeld')"
   ]
  },
  {
   "cell_type": "code",
   "execution_count": 96,
   "metadata": {},
   "outputs": [
    {
     "data": {
      "text/plain": [
       "<Axes: >"
      ]
     },
     "execution_count": 96,
     "metadata": {},
     "output_type": "execute_result"
    },
    {
     "data": {
      "image/png": "[encoded data removed]",
      "text/plain": [
       "<Figure size 640x480 with 1 Axes>"
      ]
     },
     "metadata": {},
     "output_type": "display_data"
    }
   ],
   "source": [
    "scaled_schoenfeld_residuals.plot(kind='line', y='age')"
   ]
  },
  {
   "cell_type": "code",
   "execution_count": 112,
   "metadata": {},
   "outputs": [],
   "source": [
    "import statsmodels.stats.diagnostic as diag\n",
    "\n",
    "ljung_box_options = {\n",
    "    \"lags\":[40], \n",
    "    \"boxpierce\":True, \n",
    "    \"model_df\":0, \n",
    "    \"period\":None, \n",
    "    \"return_df\":None\n",
    "}\n",
    "\n",
    "autocorrl_diagnostics = []\n",
    "PREDICTOR = 'Predictor'\n",
    "\n",
    "for column_name, col_data in scaled_schoenfeld_residuals.items():\n",
    "    column_diagnostics = diag.acorr_ljungbox(x=col_data, **ljung_box_options)\n",
    "    column_diagnostics[PREDICTOR] = column_name\n",
    "    autocorrl_diagnostics.append(column_diagnostics)\n",
    "\n",
    "autocorrl_diagnostics = pd.concat(autocorrl_diagnostics, axis=0)"
   ]
  },
  {
   "cell_type": "code",
   "execution_count": 125,
   "metadata": {},
   "outputs": [],
   "source": [
    "critical_value = 0.05\n",
    "\n",
    "ljung_box_violations = autocorrl_diagnostics.query(f\"lb_pvalue <= {critical_value}\")\n",
    "box_pierce_violations = autocorrl_diagnostics.query(f\"bp_pvalue <= {critical_value}\")\n",
    "\n",
    "if not ljung_box_violations.empty:\n",
    "    raise ValueError(f\"Autocorrelations detected for {ljung_box_violations[PREDICTOR].to_list()}\")\n",
    "\n",
    "if not box_pierce_violations.empty:\n",
    "    raise ValueError(f\"Autocorrelations detected for {box_pierce_violations[PREDICTOR].to_list()}\")\n"
   ]
  },
  {
   "cell_type": "code",
   "execution_count": 124,
   "metadata": {},
   "outputs": [
    {
     "data": {
      "text/plain": [
       "\"Autocorrelations detected for ['a', 'v', 'b']\""
      ]
     },
     "execution_count": 124,
     "metadata": {},
     "output_type": "execute_result"
    }
   ],
   "source": [
    "f\"Autocorrelations detected for {['a','v','b']}\"\n"
   ]
  }
 ],
 "metadata": {
  "kernelspec": {
   "display_name": "survenv",
   "language": "python",
   "name": "python3"
  },
  "language_info": {
   "codemirror_mode": {
    "name": "ipython",
    "version": 3
   },
   "file_extension": ".py",
   "mimetype": "text/x-python",
   "name": "python",
   "nbconvert_exporter": "python",
   "pygments_lexer": "ipython3",
   "version": "3.12.4"
  }
 },
 "nbformat": 4,
 "nbformat_minor": 2
}
